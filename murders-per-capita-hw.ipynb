{
 "cells": [
  {
   "cell_type": "code",
   "execution_count": 2,
   "id": "90eb6a62-57bc-459b-b1fe-00f30e6a2777",
   "metadata": {},
   "outputs": [],
   "source": [
    "## Assigning values to the variables- murders\n",
    "murders_chicago = 762\n",
    "murders_la = 294\n",
    "murders_nyc = 334\n",
    "murders_sj = 47"
   ]
  },
  {
   "cell_type": "code",
   "execution_count": 4,
   "id": "01222726-977b-47f1-ae9a-2fef2b59caf5",
   "metadata": {},
   "outputs": [],
   "source": [
    "## Assigning values to the variables- population (pop)\n",
    "pop_chicago = 2_705_000\n",
    "pop_la = 3_976_000\n",
    "pop_nyc = 8_538_000\n",
    "pop_sj = 1_025_000"
   ]
  },
  {
   "cell_type": "code",
   "execution_count": 29,
   "id": "d1345b3c-1921-41cb-9b8d-dd52f7341d9c",
   "metadata": {},
   "outputs": [
    {
     "data": {
      "text/plain": [
       "28.170055452865068"
      ]
     },
     "execution_count": 29,
     "metadata": {},
     "output_type": "execute_result"
    }
   ],
   "source": [
    "##calculate murder rate in chicago\n",
    "(murders_chicago / pop_chicago) * 100_000"
   ]
  },
  {
   "cell_type": "code",
   "execution_count": 31,
   "id": "06818a20-5cfd-47b3-9836-68c67e4ca021",
   "metadata": {},
   "outputs": [
    {
     "data": {
      "text/plain": [
       "7.394366197183098"
      ]
     },
     "execution_count": 31,
     "metadata": {},
     "output_type": "execute_result"
    }
   ],
   "source": [
    "##calculate murder rate in los angeles\n",
    "(murders_la / pop_la) * 100_000"
   ]
  },
  {
   "cell_type": "code",
   "execution_count": 35,
   "id": "65931aff-33e7-42ec-997a-b68fd8b77d3a",
   "metadata": {},
   "outputs": [
    {
     "data": {
      "text/plain": [
       "3.911923167018037"
      ]
     },
     "execution_count": 35,
     "metadata": {},
     "output_type": "execute_result"
    }
   ],
   "source": [
    "##calculate murder rate in nyc\n",
    "(murders_nyc / pop_nyc) * 100_000"
   ]
  },
  {
   "cell_type": "code",
   "execution_count": 39,
   "id": "aadd78ab-3cf2-4656-8b00-8f710a6aad11",
   "metadata": {},
   "outputs": [
    {
     "data": {
      "text/plain": [
       "4.585365853658536"
      ]
     },
     "execution_count": 39,
     "metadata": {},
     "output_type": "execute_result"
    }
   ],
   "source": [
    "##calculate murder rate in san jose\n",
    "(murders_sj / pop_sj) * 100_000"
   ]
  },
  {
   "cell_type": "code",
   "execution_count": 41,
   "id": "74867391-7776-49c2-b319-c550508c0183",
   "metadata": {},
   "outputs": [],
   "source": [
    "m_rate_chicago = 28.170055452865068\n",
    "m_rate_la = 7.394366197183098\n",
    "m_rate_nyc = 3.911923167018037\n",
    "m_rate_sj = 4.585365853658536"
   ]
  },
  {
   "cell_type": "code",
   "execution_count": 63,
   "id": "90268eb1-787e-47b3-b30a-b2eb2fc436e8",
   "metadata": {},
   "outputs": [
    {
     "name": "stdout",
     "output_type": "stream",
     "text": [
      " New York City has the lowest murder rate per 100K, of 3.91\n"
     ]
    }
   ],
   "source": [
    "print(f\" New York City has the lowest murder rate per 100K, of {m_rate_nyc:.2F}\") "
   ]
  },
  {
   "cell_type": "code",
   "execution_count": 91,
   "id": "c95a8111-4bad-466d-8591-76bc2662b0ff",
   "metadata": {},
   "outputs": [
    {
     "name": "stdout",
     "output_type": "stream",
     "text": [
      "New York City has the lowest murder rate of 4 per 100K. Chicago has the highest murder rate of 28 per 100K while Los Angeles and San Jose have murder rates of 7 and 5 per 100K, respectively.\n"
     ]
    }
   ],
   "source": [
    "print(f\"New York City has the lowest murder rate of {m_rate_nyc:.0F} per 100K. Chicago has the highest murder rate of {m_rate_chicago:.0F} per 100K while Los Angeles and San Jose have murder rates of {m_rate_la:.0F} and {m_rate_sj:.0F} per 100K, respectively.\")"
   ]
  }
 ],
 "metadata": {
  "kernelspec": {
   "display_name": "Python [conda env:base] *",
   "language": "python",
   "name": "conda-base-py"
  },
  "language_info": {
   "codemirror_mode": {
    "name": "ipython",
    "version": 3
   },
   "file_extension": ".py",
   "mimetype": "text/x-python",
   "name": "python",
   "nbconvert_exporter": "python",
   "pygments_lexer": "ipython3",
   "version": "3.12.7"
  }
 },
 "nbformat": 4,
 "nbformat_minor": 5
}
